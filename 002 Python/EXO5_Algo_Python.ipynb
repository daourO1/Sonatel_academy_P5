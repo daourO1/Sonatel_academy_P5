{
 "cells": [
  {
   "cell_type": "code",
   "execution_count": null,
   "id": "7ab5343f",
   "metadata": {},
   "outputs": [],
   "source": [
    "#from termcolor import colored\n",
    "i=0\n",
    "j=0\n",
    "booleen=True\n",
    "while booleen:\n",
    "    n=int(input(\"Donner l'ordre de votre matrice: \"))\n",
    "    if n<=5:\n",
    "        print(\"L'ordre doit ètre supérieur à 5.\")\n",
    "    else:\n",
    "        couleur=input(\"Choisisez entre bleu et rouge: \")\n",
    "        while couleur not in [\"b\",\"r\"]:\n",
    "            couleur=input(\"Invalide.\\nChoisisez entre bleu et rouge: \")\n",
    "            if couleur=='b':\n",
    "                couleur='b'\n",
    "                #colored_couleur = colored(couleur, \"blue\")\n",
    "            else:\n",
    "                couleur='r'\n",
    "                #colored_couleur = colored(couleur, \"red\")\n",
    "        position=input(\"Choisisez une position haut ou bas: \")\n",
    "        while position not in [\"haut\",\"bas\"]:\n",
    "            position=input(\"Invalide.\\nChoisisez une position haut ou bas: \")\n",
    "        matrice=[[\"x\"for i in range(n)]for j in range(n)]\n",
    "        for i in range(n):\n",
    "            for j in range(n):\n",
    "                if position=='haut':\n",
    "                    if i<j:\n",
    "                        matrice[i][j]=couleur\n",
    "                else:\n",
    "                    if i>j:\n",
    "                        matrice[i][j]=couleur\n",
    "        for row in matrice:\n",
    "            print(\" \".join(row))"
   ]
  },
  {
   "cell_type": "code",
   "execution_count": null,
   "id": "7a10676b",
   "metadata": {},
   "outputs": [],
   "source": []
  }
 ],
 "metadata": {
  "kernelspec": {
   "display_name": "Python 3",
   "language": "python",
   "name": "python3"
  },
  "language_info": {
   "codemirror_mode": {
    "name": "ipython",
    "version": 3
   },
   "file_extension": ".py",
   "mimetype": "text/x-python",
   "name": "python",
   "nbconvert_exporter": "python",
   "pygments_lexer": "ipython3",
   "version": "3.10.6 (main, Nov 14 2022, 16:10:14) [GCC 11.3.0]"
  },
  "vscode": {
   "interpreter": {
    "hash": "916dbcbb3f70747c44a77c7bcd40155683ae19c65e1c03b4aa3499c5328201f1"
   }
  }
 },
 "nbformat": 4,
 "nbformat_minor": 5
}
